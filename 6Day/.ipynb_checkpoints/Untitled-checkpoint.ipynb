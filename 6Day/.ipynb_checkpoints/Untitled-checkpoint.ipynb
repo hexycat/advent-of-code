{
 "cells": [
  {
   "cell_type": "code",
   "execution_count": 1,
   "metadata": {},
   "outputs": [
    {
     "name": "stdout",
     "output_type": "stream",
     "text": [
      "[0, 1, 35]\n",
      "[ 2  3  4  5  6  7  8  9 10 11 12 13 14 15 16 17 18 19 20 21 22 23 24 25\n",
      " 26 27 28 29 30 31 32 33 34 36 37 38 39 40 41 42 43 44 45 46 47 48 49 50] [2671 1234 1876 2164 7248 2209 2465 3103  686 1317 2827 1743 1816 2097\n",
      " 1034 3741 6313 3748  723  944 2751 1365 3057 2057 4811 1868  655 1372\n",
      " 1930 1071 1072 1539 2064 5365 1875 6657 1849 2328 2585  814 1184 2265\n",
      " 1852 2199 1094 2940 1056 3148]\n",
      "7248\n"
     ]
    }
   ],
   "source": [
    "import numpy as np\n",
    "import sys\n",
    "\n",
    "with open('input', 'r') as file:\n",
    "    coords = []\n",
    "    for line in file:\n",
    "        coords.append(line.replace('\\n', '').split(', '))\n",
    "\n",
    "coords = np.array(coords, dtype=int)\n",
    "\n",
    "def manh(self, other):\n",
    "    return np.abs(self - other).sum()\n",
    "\n",
    "matrix = np.zeros(coords.max(axis=0), dtype=int)\n",
    "n = coords.shape[0]\n",
    "\n",
    "for i in range(matrix.shape[0]):\n",
    "    for j in range(matrix.shape[1]):\n",
    "\n",
    "        point = np.array([i + 1, j + 1], dtype=int)\n",
    "        distances = np.zeros(n)\n",
    "        for k in range(1, n + 1):\n",
    "            coord = coords[k - 1, :]\n",
    "            if (coord == point).all():\n",
    "                matrix[i, j] = k\n",
    "                break\n",
    "            distances[k - 1] = manh(coord, point)\n",
    "        else:\n",
    "            min_ids = np.where(distances == distances.min())[0]\n",
    "            if min_ids.size == 1:\n",
    "                matrix[i, j] = min_ids[0] + 1\n",
    "\n",
    "matrix_borders = np.concatenate((matrix[0, :], \n",
    "                                 matrix[-1, :],\n",
    "                                 matrix[:, 0],\n",
    "                                 matrix[:, -1]), axis=None)\n",
    "exclude = np.unique(matrix_borders)\n",
    "unique, counts = np.unique(matrix, return_counts=True)\n",
    "index = []\n",
    "if 0 not in exclude:\n",
    "    index.append(0)\n",
    "for excluded_coord_id in exclude:\n",
    "    index += list(np.where(unique == excluded_coord_id)[0])\n",
    "unique = np.delete(unique, index)\n",
    "counts = np.delete(counts, index)\n",
    "\n",
    "\n",
    "print(index)\n",
    "print(unique, counts)\n",
    "print(counts.max())"
   ]
  },
  {
   "cell_type": "code",
   "execution_count": 4,
   "metadata": {},
   "outputs": [],
   "source": [
    "first_row = matrix[0, :]\n",
    "last_row = matrix[-1, :]\n",
    "first_col = matrix[:, 0]\n",
    "last_col = matrix[:, -1]"
   ]
  },
  {
   "cell_type": "code",
   "execution_count": 18,
   "metadata": {},
   "outputs": [
    {
     "data": {
      "text/plain": [
       "array([ 0,  1,  2,  5,  6,  7,  9, 11, 14, 16, 17, 18, 19, 24, 29, 35, 38,\n",
       "       40, 46, 47, 50])"
      ]
     },
     "execution_count": 18,
     "metadata": {},
     "output_type": "execute_result"
    }
   ],
   "source": [
    "np.unique(np.concatenate((first_col, last_col, first_row, last_row), axis=None))"
   ]
  }
 ],
 "metadata": {
  "kernelspec": {
   "display_name": "Python 3",
   "language": "python",
   "name": "python3"
  },
  "language_info": {
   "codemirror_mode": {
    "name": "ipython",
    "version": 3
   },
   "file_extension": ".py",
   "mimetype": "text/x-python",
   "name": "python",
   "nbconvert_exporter": "python",
   "pygments_lexer": "ipython3",
   "version": "3.6.5"
  }
 },
 "nbformat": 4,
 "nbformat_minor": 2
}
