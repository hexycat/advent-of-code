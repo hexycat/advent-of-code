{
 "cells": [
  {
   "cell_type": "code",
   "execution_count": 1,
   "metadata": {},
   "outputs": [],
   "source": [
    "with open('input', 'r') as file:\n",
    "    data = file.readline().replace('\\n', '').split(' ')\n",
    "\n",
    "data = [int(number) for number in data]"
   ]
  },
  {
   "cell_type": "code",
   "execution_count": 2,
   "metadata": {},
   "outputs": [],
   "source": [
    "scores = {} # node: node_value\n",
    "nodes_childs = {} # node: list of childs"
   ]
  },
  {
   "cell_type": "code",
   "execution_count": 10,
   "metadata": {},
   "outputs": [],
   "source": [
    "def node_value(pos, data, scores, nodes_childs):\n",
    "    childs = data[pos]\n",
    "    metadata_size = data[pos + 1]\n",
    "\n",
    "    if childs == 0:\n",
    "        metadata = data[pos+2 : pos+2+metadata_size]\n",
    "        scores[pos] = sum(metadata)\n",
    "        nodes_childs[pos] = []\n",
    "        return pos + 2 + metadata_size, scores, nodes_childs\n",
    "\n",
    "    childs_ids = []\n",
    "    next_child = pos + 2\n",
    "\n",
    "    for _ in range(childs):\n",
    "        childs_ids.append(next_child)\n",
    "        next_child, scores, nodes_childs = node_value(next_child, data, scores, nodes_childs)\n",
    "\n",
    "    nodes_childs[pos] = childs_ids\n",
    "\n",
    "    current_node_value = 0\n",
    "    metadata = data[next_child : next_child+metadata_size]\n",
    "    for value in metadata:\n",
    "        try:\n",
    "            current_node_value += scores.get(child_ids[value - 1], 0)\n",
    "        except:\n",
    "            pass\n",
    "    scores[pos] = current_node_value\n",
    "    return next_child + metadata_size, scores, nodes_childs"
   ]
  },
  {
   "cell_type": "code",
   "execution_count": 11,
   "metadata": {},
   "outputs": [],
   "source": [
    "_, scores, nodes_childs = node_value(0, data, scores, nodes_childs)"
   ]
  },
  {
   "cell_type": "code",
   "execution_count": 12,
   "metadata": {},
   "outputs": [
    {
     "data": {
      "text/plain": [
       "[2, 1896, 4098, 5865, 8038, 10183, 12422]"
      ]
     },
     "execution_count": 12,
     "metadata": {},
     "output_type": "execute_result"
    }
   ],
   "source": [
    "nodes_childs[0]"
   ]
  },
  {
   "cell_type": "code",
   "execution_count": 13,
   "metadata": {},
   "outputs": [
    {
     "data": {
      "text/plain": [
       "0"
      ]
     },
     "execution_count": 13,
     "metadata": {},
     "output_type": "execute_result"
    }
   ],
   "source": [
    "scores[0]"
   ]
  },
  {
   "cell_type": "code",
   "execution_count": 14,
   "metadata": {},
   "outputs": [
    {
     "data": {
      "text/plain": [
       "[9, 2, 3, 6, 6, 6, 7, 7, 3, 9, 5]"
      ]
     },
     "execution_count": 14,
     "metadata": {},
     "output_type": "execute_result"
    }
   ],
   "source": [
    "data[-11:]"
   ]
  },
  {
   "cell_type": "code",
   "execution_count": null,
   "metadata": {},
   "outputs": [],
   "source": []
  }
 ],
 "metadata": {
  "kernelspec": {
   "display_name": "Python 3",
   "language": "python",
   "name": "python3"
  },
  "language_info": {
   "codemirror_mode": {
    "name": "ipython",
    "version": 3
   },
   "file_extension": ".py",
   "mimetype": "text/x-python",
   "name": "python",
   "nbconvert_exporter": "python",
   "pygments_lexer": "ipython3",
   "version": "3.6.5"
  }
 },
 "nbformat": 4,
 "nbformat_minor": 2
}
